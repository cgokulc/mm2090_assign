{
 "cells": [
  {
   "cell_type": "code",
   "execution_count": 14,
   "metadata": {},
   "outputs": [],
   "source": [
    "from sage.repl.ipython_kernel.interact import sage_interactive\n",
    "\n",
    "x = polygen(CC)\n",
    "\n",
    "def poly(a,b,c,d,e,f,g):\n",
    "    eqn = a*x**6+b*x**5+c*x**4+d*x**3+e*x**2+f*x+g\n",
    "    roots = eqn.complex_roots()\n",
    "    g=Graphics()\n",
    "    g+=list_plot(roots,color='red',marker='o')\n",
    "    g.show(xmin=-10,xmax=10,ymin=-10,ymax=10)"
   ]
  },
  {
   "cell_type": "code",
   "execution_count": 17,
   "metadata": {},
   "outputs": [
    {
     "data": {
      "application/vnd.jupyter.widget-view+json": {
       "model_id": "af952bf9aa4a403186a02fc94ae6c39b",
       "version_major": 2,
       "version_minor": 0
      },
      "text/plain": [
       "Interactive function <function poly at 0x7f5466f8eaf0> with 7 widgets\n",
       "  a: IntSlider(value=-1, description='a'…"
      ]
     },
     "metadata": {},
     "output_type": "display_data"
    }
   ],
   "source": [
    "sage_interactive(poly,a=(-11,10),b=(-10,10),c=(-10,10),d=(-10,10),e=(-10,10),f=(-10,10),g=(-10,10))"
   ]
  },
  {
   "cell_type": "code",
   "execution_count": null,
   "metadata": {},
   "outputs": [],
   "source": []
  }
 ],
 "metadata": {
  "kernelspec": {
   "display_name": "SageMath 9.3",
   "language": "sage",
   "name": "sagemath"
  },
  "language_info": {
   "codemirror_mode": {
    "name": "ipython",
    "version": 3
   },
   "file_extension": ".py",
   "mimetype": "text/x-python",
   "name": "python",
   "nbconvert_exporter": "python",
   "pygments_lexer": "ipython3",
   "version": "3.9.2"
  }
 },
 "nbformat": 4,
 "nbformat_minor": 4
}
