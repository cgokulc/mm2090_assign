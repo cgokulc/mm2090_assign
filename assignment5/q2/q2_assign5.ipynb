{
 "cells": [
  {
   "cell_type": "code",
   "execution_count": 1,
   "metadata": {},
   "outputs": [],
   "source": [
    "def pltcircles(p,r):\n",
    "    g=Graphics()\n",
    "    title=\"p={}    r={}\".format(p,r)\n",
    "    g+=text(title,(0,7))\n",
    "    for n in srange(0, 2*math.pi+math.pi/14, math.pi/14):\n",
    "        g+=circle(((p)*(math.sin(n)), (p)*math.cos(n)),r,rgbcolor=hue(n))\n",
    "    g.show(xmin=-8,ymin=-8,xmax=8,ymax=8)"
   ]
  },
  {
   "cell_type": "code",
   "execution_count": 2,
   "metadata": {},
   "outputs": [],
   "source": [
    "from sage.repl.ipython_kernel.interact import sage_interactive"
   ]
  },
  {
   "cell_type": "code",
   "execution_count": 3,
   "metadata": {},
   "outputs": [
    {
     "data": {
      "application/vnd.jupyter.widget-view+json": {
       "model_id": "a682d09427214d04b531b6807ab0612e",
       "version_major": 2,
       "version_minor": 0
      },
      "text/plain": [
       "Interactive function <function pltcircles at 0x7f87a97489d0> with 2 widgets\n",
       "  p: FloatSlider(value=2.0, descri…"
      ]
     },
     "metadata": {},
     "output_type": "display_data"
    }
   ],
   "source": [
    "sage_interactive(pltcircles,p=(1,3,0.5),r=(1,3,0.5))"
   ]
  },
  {
   "cell_type": "code",
   "execution_count": 4,
   "metadata": {},
   "outputs": [],
   "source": [
    "for p in (1,2,3):\n",
    "    for r in (1,2,3):\n",
    "        g=Graphics()\n",
    "        title=\"p={}    r={}\".format(p,r)\n",
    "        g+=text(title,(0,7))\n",
    "        for n in srange(0, 2*math.pi+math.pi/14, math.pi/14):\n",
    "            g+=circle(((p)*(math.sin(n)), (p)*math.cos(n)),r,rgbcolor=hue(n))\n",
    "        g.save(\"p={},r={}.png\".format(p,r),xmax=8,xmin=-8,ymin=-8,ymax=8,dpi=300)"
   ]
  },
  {
   "cell_type": "code",
   "execution_count": null,
   "metadata": {},
   "outputs": [],
   "source": []
  }
 ],
 "metadata": {
  "kernelspec": {
   "display_name": "SageMath 9.3",
   "language": "sage",
   "name": "sagemath"
  },
  "language_info": {
   "codemirror_mode": {
    "name": "ipython",
    "version": 3
   },
   "file_extension": ".py",
   "mimetype": "text/x-python",
   "name": "python",
   "nbconvert_exporter": "python",
   "pygments_lexer": "ipython3",
   "version": "3.9.2"
  }
 },
 "nbformat": 4,
 "nbformat_minor": 4
}
