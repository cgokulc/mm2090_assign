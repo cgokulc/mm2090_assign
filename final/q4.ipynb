{
 "cells": [
  {
   "cell_type": "code",
   "execution_count": 1,
   "metadata": {},
   "outputs": [],
   "source": [
    "import numpy as np\n",
    "from PIL import Image"
   ]
  },
  {
   "cell_type": "code",
   "execution_count": 2,
   "metadata": {},
   "outputs": [],
   "source": [
    "drtn=0 #Up=0, Left=1, Down=2, Right=3\n",
    "h=64\n",
    "w=64\n",
    "pos_x=int(h/2)\n",
    "pos_y=int(w/2)\n",
    "white=[255,255,255]\n",
    "black=[0,0,0]"
   ]
  },
  {
   "cell_type": "code",
   "execution_count": 3,
   "metadata": {},
   "outputs": [],
   "source": [
    "data=np.zeros((h*8,w*8,3),np.uint8)"
   ]
  },
  {
   "cell_type": "code",
   "execution_count": 4,
   "metadata": {},
   "outputs": [],
   "source": [
    "def make_grid():\n",
    "    for i in range(h):\n",
    "        for j in range(w):\n",
    "            for x in range(i*8,i*8+7):\n",
    "                for y in range(j*8,j*8+7):\n",
    "                    data[x][y]=[255,255,255]"
   ]
  },
  {
   "cell_type": "code",
   "execution_count": 5,
   "metadata": {},
   "outputs": [],
   "source": [
    "def turn(pos_x,pos_y,drtn,data):\n",
    "    if(data[pos_x*8+4][pos_y*8+4][2]==255):\n",
    "        drtn+=1\n",
    "        if(drtn>3):\n",
    "            drtn=0\n",
    "    elif(data[pos_x*8+4][pos_y*8+4][2]==0):\n",
    "        drtn-=1\n",
    "        if(drtn<0):\n",
    "            drtn=3\n",
    "    return drtn"
   ]
  },
  {
   "cell_type": "code",
   "execution_count": 6,
   "metadata": {},
   "outputs": [],
   "source": [
    "def mv_fwrd(pos_x,pos_y,drtn,data):\n",
    "    if(data[pos_x*8+4][pos_y*8+4][2]==255):\n",
    "        color=[0,0,0]\n",
    "    elif(data[pos_x*8+4][pos_y*8+4][2]==0):\n",
    "        color=[255,255,255]\n",
    "    for x in range (pos_x*8,pos_x*8+7):\n",
    "        for y in range (pos_y*8,pos_y*8+7):\n",
    "                data[x][y]=color\n",
    "    if(drtn==0):\n",
    "        pos_x-=1\n",
    "    elif(drtn==1):\n",
    "        pos_y+=1\n",
    "    elif(drtn==2):\n",
    "        pos_x+=1\n",
    "    elif(drtn==3):\n",
    "        pos_y-=1\n",
    "    return pos_x,pos_y,data"
   ]
  },
  {
   "cell_type": "code",
   "execution_count": 7,
   "metadata": {},
   "outputs": [],
   "source": [
    "make_grid()"
   ]
  },
  {
   "cell_type": "code",
   "execution_count": 8,
   "metadata": {},
   "outputs": [],
   "source": [
    "count=0\n",
    "while(pos_x>=0 and pos_x<h and pos_y>=0 and pos_y<w):\n",
    "    count+=1\n",
    "    drtn=turn(pos_x,pos_y,drtn,data)\n",
    "    (pos_x,pos_y,data)=mv_fwrd(pos_x,pos_y,drtn,data)"
   ]
  },
  {
   "cell_type": "code",
   "execution_count": 9,
   "metadata": {},
   "outputs": [],
   "source": [
    "im=Image.fromarray(data)\n",
    "im.show()\n",
    "im.save(\"lagnton's_ant_{}x{}_after_{}_steps.eps\".format(h,w,count))"
   ]
  },
  {
   "cell_type": "code",
   "execution_count": 10,
   "metadata": {},
   "outputs": [
    {
     "data": {
      "text/plain": [
       "10733"
      ]
     },
     "execution_count": 10,
     "metadata": {},
     "output_type": "execute_result"
    }
   ],
   "source": [
    "count"
   ]
  },
  {
   "cell_type": "code",
   "execution_count": null,
   "metadata": {},
   "outputs": [],
   "source": []
  }
 ],
 "metadata": {
  "kernelspec": {
   "display_name": "Python 3",
   "language": "python",
   "name": "python3"
  },
  "language_info": {
   "codemirror_mode": {
    "name": "ipython",
    "version": 3
   },
   "file_extension": ".py",
   "mimetype": "text/x-python",
   "name": "python",
   "nbconvert_exporter": "python",
   "pygments_lexer": "ipython3",
   "version": "3.9.2"
  }
 },
 "nbformat": 4,
 "nbformat_minor": 4
}
